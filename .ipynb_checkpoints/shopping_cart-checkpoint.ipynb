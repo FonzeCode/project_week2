{
 "cells": [
  {
   "cell_type": "code",
   "execution_count": null,
   "metadata": {},
   "outputs": [],
   "source": []
  },
  {
   "cell_type": "code",
   "execution_count": 58,
   "metadata": {
    "tags": []
   },
   "outputs": [
    {
     "name": "stdout",
     "output_type": "stream",
     "text": [
      "What article of clothing are you buying?: w\n",
      "Enter the price of a w: $ 12\n",
      "What article of clothing are you buying?: 3\n",
      "Enter the price of a 3: $ 12\n",
      "What article of clothing are you buying?: w\n",
      "Enter the price of a w: $ 12\n",
      "What article of clothing are you buying?: done\n"
     ]
    },
    {
     "name": "stdout",
     "output_type": "stream",
     "text": [
      "Your Cart\n",
      "w\n",
      "3\n",
      "w\n"
     ]
    }
   ],
   "source": [
    "clothes = []\n",
    "prices = []\n",
    "total = 0  \n",
    "while True:\n",
    "    clothe = input('What article of clothing are you buying?:')\n",
    "    if clothe.lower() == 'done':\n",
    "        break\n",
    "    else:\n",
    "        price = float(input(f\"Enter the price of a {clothe}: $\"))\n",
    "        clothes.append(clothe)\n",
    "        prices.append(price)\n",
    "        \n",
    "\n",
    "print(\"Your Cart\")\n",
    "\n",
    "for clothe in clothes:\n",
    "    print(clothe)\n",
    "    \n",
    "for price in prices:\n",
    "    total += price\n",
    "    \n",
    "print(f\"Your total is: ${total}\")\n",
    "\n"
   ]
  },
  {
   "cell_type": "markdown",
   "metadata": {},
   "source": [
    " "
   ]
  },
  {
   "cell_type": "code",
   "execution_count": null,
   "metadata": {},
   "outputs": [],
   "source": []
  }
 ],
 "metadata": {
  "kernelspec": {
   "display_name": "Python 3 (ipykernel)",
   "language": "python",
   "name": "python3"
  },
  "language_info": {
   "codemirror_mode": {
    "name": "ipython",
    "version": 3
   },
   "file_extension": ".py",
   "mimetype": "text/x-python",
   "name": "python",
   "nbconvert_exporter": "python",
   "pygments_lexer": "ipython3",
   "version": "3.11.1"
  },
  "vscode": {
   "interpreter": {
    "hash": "aee8b7b246df8f9039afb4144a1f6fd8d2ca17a180786b69acc140d282b71a49"
   }
  }
 },
 "nbformat": 4,
 "nbformat_minor": 4
}
